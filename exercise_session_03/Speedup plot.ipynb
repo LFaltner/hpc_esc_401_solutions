{
 "cells": [
  {
   "cell_type": "code",
   "execution_count": 1,
   "id": "80da0bc0",
   "metadata": {},
   "outputs": [],
   "source": [
    "import pandas as pd\n",
    "import matplotlib.pyplot as plt"
   ]
  },
  {
   "cell_type": "code",
   "execution_count": 2,
   "id": "1c1d3eeb",
   "metadata": {},
   "outputs": [
    {
     "data": {
      "text/html": [
       "<div>\n",
       "<style scoped>\n",
       "    .dataframe tbody tr th:only-of-type {\n",
       "        vertical-align: middle;\n",
       "    }\n",
       "\n",
       "    .dataframe tbody tr th {\n",
       "        vertical-align: top;\n",
       "    }\n",
       "\n",
       "    .dataframe thead th {\n",
       "        text-align: right;\n",
       "    }\n",
       "</style>\n",
       "<table border=\"1\" class=\"dataframe\">\n",
       "  <thead>\n",
       "    <tr style=\"text-align: right;\">\n",
       "      <th></th>\n",
       "      <th>threads</th>\n",
       "      <th>time</th>\n",
       "      <th>ideal</th>\n",
       "      <th>ideal line</th>\n",
       "      <th>sum function</th>\n",
       "    </tr>\n",
       "  </thead>\n",
       "  <tbody>\n",
       "    <tr>\n",
       "      <th>0</th>\n",
       "      <td>1</td>\n",
       "      <td>2.2530</td>\n",
       "      <td>2.253000</td>\n",
       "      <td>1.0</td>\n",
       "      <td>1.000000</td>\n",
       "    </tr>\n",
       "    <tr>\n",
       "      <th>1</th>\n",
       "      <td>2</td>\n",
       "      <td>1.0670</td>\n",
       "      <td>1.126500</td>\n",
       "      <td>2.0</td>\n",
       "      <td>2.111528</td>\n",
       "    </tr>\n",
       "    <tr>\n",
       "      <th>2</th>\n",
       "      <td>4</td>\n",
       "      <td>0.5482</td>\n",
       "      <td>0.563250</td>\n",
       "      <td>4.0</td>\n",
       "      <td>4.109814</td>\n",
       "    </tr>\n",
       "    <tr>\n",
       "      <th>3</th>\n",
       "      <td>6</td>\n",
       "      <td>0.3847</td>\n",
       "      <td>0.375500</td>\n",
       "      <td>6.0</td>\n",
       "      <td>5.856512</td>\n",
       "    </tr>\n",
       "    <tr>\n",
       "      <th>4</th>\n",
       "      <td>10</td>\n",
       "      <td>0.2040</td>\n",
       "      <td>0.225300</td>\n",
       "      <td>10.0</td>\n",
       "      <td>11.044118</td>\n",
       "    </tr>\n",
       "    <tr>\n",
       "      <th>5</th>\n",
       "      <td>15</td>\n",
       "      <td>0.1685</td>\n",
       "      <td>0.150200</td>\n",
       "      <td>15.0</td>\n",
       "      <td>13.370920</td>\n",
       "    </tr>\n",
       "    <tr>\n",
       "      <th>6</th>\n",
       "      <td>20</td>\n",
       "      <td>0.1207</td>\n",
       "      <td>0.112650</td>\n",
       "      <td>20.0</td>\n",
       "      <td>18.666114</td>\n",
       "    </tr>\n",
       "    <tr>\n",
       "      <th>7</th>\n",
       "      <td>30</td>\n",
       "      <td>0.1280</td>\n",
       "      <td>0.075100</td>\n",
       "      <td>30.0</td>\n",
       "      <td>17.601562</td>\n",
       "    </tr>\n",
       "    <tr>\n",
       "      <th>8</th>\n",
       "      <td>40</td>\n",
       "      <td>0.1309</td>\n",
       "      <td>0.056325</td>\n",
       "      <td>40.0</td>\n",
       "      <td>17.211612</td>\n",
       "    </tr>\n",
       "  </tbody>\n",
       "</table>\n",
       "</div>"
      ],
      "text/plain": [
       "   threads    time     ideal  ideal line  sum function\n",
       "0        1  2.2530  2.253000         1.0      1.000000\n",
       "1        2  1.0670  1.126500         2.0      2.111528\n",
       "2        4  0.5482  0.563250         4.0      4.109814\n",
       "3        6  0.3847  0.375500         6.0      5.856512\n",
       "4       10  0.2040  0.225300        10.0     11.044118\n",
       "5       15  0.1685  0.150200        15.0     13.370920\n",
       "6       20  0.1207  0.112650        20.0     18.666114\n",
       "7       30  0.1280  0.075100        30.0     17.601562\n",
       "8       40  0.1309  0.056325        40.0     17.211612"
      ]
     },
     "execution_count": 2,
     "metadata": {},
     "output_type": "execute_result"
    }
   ],
   "source": [
    "df = pd.read_csv(\"thread_speedup.csv\", delimiter=\";\")\n",
    "df[\"ideal\"] = [df[\"time\"][0]/threads for threads in df[\"threads\"]]\n",
    "df[\"ideal line\"] = 1 / (1 / df[\"threads\"])\n",
    "df[\"sum function\"] = (df[\"ideal\"] / df[\"time\"]) * df[\"threads\"]\n",
    "df"
   ]
  },
  {
   "cell_type": "code",
   "execution_count": 3,
   "id": "f029051b",
   "metadata": {},
   "outputs": [
    {
     "data": {
      "image/png": "[encoded data removed]",
      "text/plain": [
       "<Figure size 432x288 with 1 Axes>"
      ]
     },
     "metadata": {
      "needs_background": "light"
     },
     "output_type": "display_data"
    }
   ],
   "source": [
    "df.plot(x=\"threads\", y=[\"ideal line\", \"sum function\"], kind=\"line\")\n",
    "plt.legend()\n",
    "plt.xlabel(\"Threads\")\n",
    "plt.ylabel(\"Speedup\")\n",
    "plt.show()"
   ]
  },
  {
   "cell_type": "code",
   "execution_count": null,
   "id": "d338f09f",
   "metadata": {},
   "outputs": [],
   "source": []
  }
 ],
 "metadata": {
  "kernelspec": {
   "display_name": "Python 3 (ipykernel)",
   "language": "python",
   "name": "python3"
  },
  "language_info": {
   "codemirror_mode": {
    "name": "ipython",
    "version": 3
   },
   "file_extension": ".py",
   "mimetype": "text/x-python",
   "name": "python",
   "nbconvert_exporter": "python",
   "pygments_lexer": "ipython3",
   "version": "3.9.7"
  }
 },
 "nbformat": 4,
 "nbformat_minor": 5
}
